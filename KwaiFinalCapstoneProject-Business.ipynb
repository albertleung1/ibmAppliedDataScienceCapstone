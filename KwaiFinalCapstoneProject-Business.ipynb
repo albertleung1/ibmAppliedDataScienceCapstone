{
 "cells": [
  {
   "cell_type": "markdown",
   "metadata": {},
   "source": [
    "# Project Title: Find a place to open a restaurant\n",
    "\n",
    "## Description:                                                                                                  \n",
    "A customer is looking for a place to open a fast food restaurant in Maryland, US. In order to pick an ideal location, we have to answer the following questions in order to find the potential candidates.\n",
    "\n",
    "1. Population - We want to select the city with large population in the Maryland State.<br>\n",
    "2. Restaurant distribution -  We want to avoid the area with many restaurants especially fast food, so the ideal location should be few restaurants with large population.\n",
    "\n",
    "## Data:\n",
    "* Latitude, longitude, and estimated population of 2015 data - Download csv data from United States Zip Codes.org\n",
    "* Location and surrounding data - From Foursquare\n",
    "   \n",
    "## Method:\n",
    "Merge both data from United States Zip Codes organization and from Foursquare and find out the information we need such latitude, longitude, population, and the restaurants distributions. Afterwards, we will use different analysis methods with Python pandas, numpy, and sklearn, etc. to find out the potential locations for our customer.\n",
    "\n",
    "                                                                                                                \n"
   ]
  },
  {
   "cell_type": "code",
   "execution_count": null,
   "metadata": {},
   "outputs": [],
   "source": []
  }
 ],
 "metadata": {
  "kernelspec": {
   "display_name": "Python 3",
   "language": "python",
   "name": "python3"
  },
  "language_info": {
   "codemirror_mode": {
    "name": "ipython",
    "version": 3
   },
   "file_extension": ".py",
   "mimetype": "text/x-python",
   "name": "python",
   "nbconvert_exporter": "python",
   "pygments_lexer": "ipython3",
   "version": "3.7.4"
  }
 },
 "nbformat": 4,
 "nbformat_minor": 2
}
